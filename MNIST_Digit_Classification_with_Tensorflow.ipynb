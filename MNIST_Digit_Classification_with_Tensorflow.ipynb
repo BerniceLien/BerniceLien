{
  "nbformat": 4,
  "nbformat_minor": 0,
  "metadata": {
    "colab": {
      "name": "MNIST Digit Classification with Tensorflow",
      "provenance": [],
      "authorship_tag": "ABX9TyNcmovRSVJYylVxiGXSY243",
      "include_colab_link": true
    },
    "kernelspec": {
      "name": "python3",
      "display_name": "Python 3"
    }
  },
  "cells": [
    {
      "cell_type": "markdown",
      "metadata": {
        "id": "view-in-github",
        "colab_type": "text"
      },
      "source": [
        "<a href=\"https://colab.research.google.com/github/bernice-lien/bernice-lien.github.io/blob/master/MNIST_Digit_Classification_with_Tensorflow.ipynb\" target=\"_parent\"><img src=\"https://colab.research.google.com/assets/colab-badge.svg\" alt=\"Open In Colab\"/></a>"
      ]
    },
    {
      "cell_type": "code",
      "metadata": {
        "id": "WAjvDKe0Rf8s"
      },
      "source": [
        "import tensorflow as tf\r\n",
        "from tensorflow import keras\r\n",
        "import matplotlib.pyplot as plt\r\n",
        "%matplotlib inline\r\n",
        "import numpy as np"
      ],
      "execution_count": null,
      "outputs": []
    },
    {
      "cell_type": "code",
      "metadata": {
        "id": "gE9mAsd3RkpS"
      },
      "source": [
        "mnist = tf.keras.datasets.mnist"
      ],
      "execution_count": null,
      "outputs": []
    },
    {
      "cell_type": "code",
      "metadata": {
        "id": "Wsrwpl4vRsey",
        "colab": {
          "base_uri": "https://localhost:8080/"
        },
        "outputId": "e9eee35b-3c20-4f25-f838-7a95422caa19"
      },
      "source": [
        "(training_data, training_labels), (test_data, test_labels) = mnist.load_data()\r\n",
        "training_data, test_dtat = training_data/255, test_data/255"
      ],
      "execution_count": null,
      "outputs": [
        {
          "output_type": "stream",
          "text": [
            "Downloading data from https://storage.googleapis.com/tensorflow/tf-keras-datasets/mnist.npz\n",
            "11493376/11490434 [==============================] - 0s 0us/step\n"
          ],
          "name": "stdout"
        }
      ]
    },
    {
      "cell_type": "code",
      "metadata": {
        "colab": {
          "base_uri": "https://localhost:8080/",
          "height": 292
        },
        "id": "CdChPhbiU8sf",
        "outputId": "b64d3490-f215-4e1a-e1fd-f79effd9bf9c"
      },
      "source": [
        "plt.matshow(training_data[45])"
      ],
      "execution_count": null,
      "outputs": [
        {
          "output_type": "execute_result",
          "data": {
            "text/plain": [
              "<matplotlib.image.AxesImage at 0x7f1b03463ac8>"
            ]
          },
          "metadata": {
            "tags": []
          },
          "execution_count": 5
        },
        {
          "output_type": "display_data",
          "data": {
            "image/png": "[encoded data removed]",
            "text/plain": [
              "<Figure size 288x288 with 1 Axes>"
            ]
          },
          "metadata": {
            "tags": [],
            "needs_background": "light"
          }
        }
      ]
    },
    {
      "cell_type": "code",
      "metadata": {
        "colab": {
          "base_uri": "https://localhost:8080/"
        },
        "id": "hyOPU8ywbaWR",
        "outputId": "234dc6be-b633-4f55-c063-7fe94d522479"
      },
      "source": [
        "training_labels[45]"
      ],
      "execution_count": null,
      "outputs": [
        {
          "output_type": "execute_result",
          "data": {
            "text/plain": [
              "9"
            ]
          },
          "metadata": {
            "tags": []
          },
          "execution_count": 6
        }
      ]
    },
    {
      "cell_type": "code",
      "metadata": {
        "id": "ebpooUtDR3nT"
      },
      "source": [
        "model = tf.keras.Sequential ([\r\n",
        "      tf.keras.layers.Flatten(input_shape=(28,28)),\r\n",
        "      tf.keras.layers.Dense(128, activation=tf.nn.relu),\r\n",
        "      tf.keras.layers.Dense(128, activation=tf.nn.relu),\r\n",
        "      tf.keras.layers.Dense(128, activation=tf.nn.relu),\r\n",
        "      tf.keras.layers.Dense(10, activation=tf.nn.softmax)\r\n",
        "])\r\n",
        "\r\n",
        "training = model.compile(optimizer= tf.optimizers.Adam(),\r\n",
        "      loss='sparse_categorical_crossentropy',\r\n",
        "      metrics=['accuracy'])"
      ],
      "execution_count": null,
      "outputs": []
    },
    {
      "cell_type": "code",
      "metadata": {
        "colab": {
          "base_uri": "https://localhost:8080/"
        },
        "id": "DQ2MY60HSVze",
        "outputId": "a00a9456-3f05-47ab-9fe4-c112c0a0e3ef"
      },
      "source": [
        "model.fit(training_data, training_labels, epochs=5)"
      ],
      "execution_count": null,
      "outputs": [
        {
          "output_type": "stream",
          "text": [
            "Epoch 1/5\n",
            "1875/1875 [==============================] - 5s 2ms/step - loss: 0.3964 - accuracy: 0.8818\n",
            "Epoch 2/5\n",
            "1875/1875 [==============================] - 4s 2ms/step - loss: 0.1004 - accuracy: 0.9697\n",
            "Epoch 3/5\n",
            "1875/1875 [==============================] - 4s 2ms/step - loss: 0.0713 - accuracy: 0.9776\n",
            "Epoch 4/5\n",
            "1875/1875 [==============================] - 4s 2ms/step - loss: 0.0511 - accuracy: 0.9838\n",
            "Epoch 5/5\n",
            "1875/1875 [==============================] - 4s 2ms/step - loss: 0.0417 - accuracy: 0.9863\n"
          ],
          "name": "stdout"
        },
        {
          "output_type": "execute_result",
          "data": {
            "text/plain": [
              "<tensorflow.python.keras.callbacks.History at 0x7f1ac0d60908>"
            ]
          },
          "metadata": {
            "tags": []
          },
          "execution_count": 19
        }
      ]
    },
    {
      "cell_type": "code",
      "metadata": {
        "colab": {
          "base_uri": "https://localhost:8080/"
        },
        "id": "87jMOPzcT_lq",
        "outputId": "494e7769-aca4-44db-8bbd-9ff0aee87986"
      },
      "source": [
        "y= model.evaluate(test_data, test_labels)"
      ],
      "execution_count": null,
      "outputs": [
        {
          "output_type": "stream",
          "text": [
            "313/313 [==============================] - 1s 1ms/step - loss: 17.2347 - accuracy: 0.9732\n"
          ],
          "name": "stdout"
        }
      ]
    },
    {
      "cell_type": "code",
      "metadata": {
        "id": "pq-CHRtEc6Gu"
      },
      "source": [
        "plt.matshow(test_data[90])"
      ],
      "execution_count": null,
      "outputs": []
    },
    {
      "cell_type": "code",
      "metadata": {
        "id": "-47XVbFJe3vX"
      },
      "source": [
        "predictions = model.predict(test_data)\r\n",
        "print(predictions)"
      ],
      "execution_count": null,
      "outputs": []
    },
    {
      "cell_type": "code",
      "metadata": {
        "id": "QzEwkey2fEo8"
      },
      "source": [
        "print(np.argmax(predictions[90]))"
      ],
      "execution_count": null,
      "outputs": []
    },
    {
      "cell_type": "code",
      "metadata": {
        "id": "oYcUYKdAgCHI"
      },
      "source": [
        ""
      ],
      "execution_count": null,
      "outputs": []
    }
  ]
}